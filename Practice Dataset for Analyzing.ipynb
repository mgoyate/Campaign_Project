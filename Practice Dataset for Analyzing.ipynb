{
 "cells": [
  {
   "cell_type": "markdown",
   "id": "d9b26253",
   "metadata": {},
   "source": [
    "# Practice Dataset"
   ]
  },
  {
   "cell_type": "code",
   "execution_count": 1,
   "id": "f4a2de69",
   "metadata": {},
   "outputs": [],
   "source": [
    "import pandas as pd\n",
    "import numpy as np\n",
    "import matplotlib.pyplot as plt\n"
   ]
  },
  {
   "cell_type": "code",
   "execution_count": 2,
   "id": "08ae3448",
   "metadata": {},
   "outputs": [
    {
     "name": "stdout",
     "output_type": "stream",
     "text": [
      "Requirement already satisfied: sklearn in c:\\users\\megha\\anaconda3\\lib\\site-packages (0.0)\n",
      "Requirement already satisfied: scikit-learn in c:\\users\\megha\\anaconda3\\lib\\site-packages (from sklearn) (1.0.2)\n",
      "Requirement already satisfied: scipy>=1.1.0 in c:\\users\\megha\\anaconda3\\lib\\site-packages (from scikit-learn->sklearn) (1.6.2)\n",
      "Requirement already satisfied: threadpoolctl>=2.0.0 in c:\\users\\megha\\anaconda3\\lib\\site-packages (from scikit-learn->sklearn) (2.1.0)\n",
      "Requirement already satisfied: numpy>=1.14.6 in c:\\users\\megha\\anaconda3\\lib\\site-packages (from scikit-learn->sklearn) (1.19.2)\n",
      "Requirement already satisfied: joblib>=0.11 in c:\\users\\megha\\anaconda3\\lib\\site-packages (from scikit-learn->sklearn) (1.0.1)\n",
      "Note: you may need to restart the kernel to use updated packages.\n"
     ]
    }
   ],
   "source": [
    "pip install sklearn"
   ]
  },
  {
   "cell_type": "code",
   "execution_count": 3,
   "id": "19533ed0",
   "metadata": {},
   "outputs": [
    {
     "name": "stdout",
     "output_type": "stream",
     "text": [
      "Given Dataset :- \n",
      " -------------------------------------------------------------------------------------\n"
     ]
    },
    {
     "data": {
      "text/html": [
       "<div>\n",
       "<style scoped>\n",
       "    .dataframe tbody tr th:only-of-type {\n",
       "        vertical-align: middle;\n",
       "    }\n",
       "\n",
       "    .dataframe tbody tr th {\n",
       "        vertical-align: top;\n",
       "    }\n",
       "\n",
       "    .dataframe thead th {\n",
       "        text-align: right;\n",
       "    }\n",
       "</style>\n",
       "<table border=\"1\" class=\"dataframe\">\n",
       "  <thead>\n",
       "    <tr style=\"text-align: right;\">\n",
       "      <th></th>\n",
       "      <th>age</th>\n",
       "      <th>job</th>\n",
       "      <th>marital</th>\n",
       "      <th>education</th>\n",
       "      <th>default</th>\n",
       "      <th>housing</th>\n",
       "      <th>loan</th>\n",
       "      <th>contact</th>\n",
       "      <th>month</th>\n",
       "      <th>day_of_week</th>\n",
       "      <th>...</th>\n",
       "      <th>campaign</th>\n",
       "      <th>pdays</th>\n",
       "      <th>previous</th>\n",
       "      <th>poutcome</th>\n",
       "      <th>emp_var_rate</th>\n",
       "      <th>cons_price_idx</th>\n",
       "      <th>cons_conf_idx</th>\n",
       "      <th>euribor3m</th>\n",
       "      <th>nr_employed</th>\n",
       "      <th>y</th>\n",
       "    </tr>\n",
       "  </thead>\n",
       "  <tbody>\n",
       "    <tr>\n",
       "      <th>0</th>\n",
       "      <td>44</td>\n",
       "      <td>blue-collar</td>\n",
       "      <td>married</td>\n",
       "      <td>basic.4y</td>\n",
       "      <td>unknown</td>\n",
       "      <td>yes</td>\n",
       "      <td>no</td>\n",
       "      <td>cellular</td>\n",
       "      <td>aug</td>\n",
       "      <td>thu</td>\n",
       "      <td>...</td>\n",
       "      <td>1</td>\n",
       "      <td>999</td>\n",
       "      <td>0</td>\n",
       "      <td>nonexistent</td>\n",
       "      <td>1.4</td>\n",
       "      <td>93.444</td>\n",
       "      <td>-36.1</td>\n",
       "      <td>4.963</td>\n",
       "      <td>5228.1</td>\n",
       "      <td>0</td>\n",
       "    </tr>\n",
       "    <tr>\n",
       "      <th>1</th>\n",
       "      <td>53</td>\n",
       "      <td>technician</td>\n",
       "      <td>married</td>\n",
       "      <td>unknown</td>\n",
       "      <td>no</td>\n",
       "      <td>no</td>\n",
       "      <td>no</td>\n",
       "      <td>cellular</td>\n",
       "      <td>nov</td>\n",
       "      <td>fri</td>\n",
       "      <td>...</td>\n",
       "      <td>1</td>\n",
       "      <td>999</td>\n",
       "      <td>0</td>\n",
       "      <td>nonexistent</td>\n",
       "      <td>-0.1</td>\n",
       "      <td>93.200</td>\n",
       "      <td>-42.0</td>\n",
       "      <td>4.021</td>\n",
       "      <td>5195.8</td>\n",
       "      <td>0</td>\n",
       "    </tr>\n",
       "    <tr>\n",
       "      <th>2</th>\n",
       "      <td>28</td>\n",
       "      <td>management</td>\n",
       "      <td>single</td>\n",
       "      <td>university.degree</td>\n",
       "      <td>no</td>\n",
       "      <td>yes</td>\n",
       "      <td>no</td>\n",
       "      <td>cellular</td>\n",
       "      <td>jun</td>\n",
       "      <td>thu</td>\n",
       "      <td>...</td>\n",
       "      <td>3</td>\n",
       "      <td>6</td>\n",
       "      <td>2</td>\n",
       "      <td>success</td>\n",
       "      <td>-1.7</td>\n",
       "      <td>94.055</td>\n",
       "      <td>-39.8</td>\n",
       "      <td>0.729</td>\n",
       "      <td>4991.6</td>\n",
       "      <td>1</td>\n",
       "    </tr>\n",
       "    <tr>\n",
       "      <th>3</th>\n",
       "      <td>39</td>\n",
       "      <td>services</td>\n",
       "      <td>married</td>\n",
       "      <td>high.school</td>\n",
       "      <td>no</td>\n",
       "      <td>no</td>\n",
       "      <td>no</td>\n",
       "      <td>cellular</td>\n",
       "      <td>apr</td>\n",
       "      <td>fri</td>\n",
       "      <td>...</td>\n",
       "      <td>2</td>\n",
       "      <td>999</td>\n",
       "      <td>0</td>\n",
       "      <td>nonexistent</td>\n",
       "      <td>-1.8</td>\n",
       "      <td>93.075</td>\n",
       "      <td>-47.1</td>\n",
       "      <td>1.405</td>\n",
       "      <td>5099.1</td>\n",
       "      <td>0</td>\n",
       "    </tr>\n",
       "    <tr>\n",
       "      <th>4</th>\n",
       "      <td>55</td>\n",
       "      <td>retired</td>\n",
       "      <td>married</td>\n",
       "      <td>basic.4y</td>\n",
       "      <td>no</td>\n",
       "      <td>yes</td>\n",
       "      <td>no</td>\n",
       "      <td>cellular</td>\n",
       "      <td>aug</td>\n",
       "      <td>fri</td>\n",
       "      <td>...</td>\n",
       "      <td>1</td>\n",
       "      <td>3</td>\n",
       "      <td>1</td>\n",
       "      <td>success</td>\n",
       "      <td>-2.9</td>\n",
       "      <td>92.201</td>\n",
       "      <td>-31.4</td>\n",
       "      <td>0.869</td>\n",
       "      <td>5076.2</td>\n",
       "      <td>1</td>\n",
       "    </tr>\n",
       "  </tbody>\n",
       "</table>\n",
       "<p>5 rows × 21 columns</p>\n",
       "</div>"
      ],
      "text/plain": [
       "   age          job  marital          education  default housing loan  \\\n",
       "0   44  blue-collar  married           basic.4y  unknown     yes   no   \n",
       "1   53   technician  married            unknown       no      no   no   \n",
       "2   28   management   single  university.degree       no     yes   no   \n",
       "3   39     services  married        high.school       no      no   no   \n",
       "4   55      retired  married           basic.4y       no     yes   no   \n",
       "\n",
       "    contact month day_of_week  ...  campaign  pdays  previous     poutcome  \\\n",
       "0  cellular   aug         thu  ...         1    999         0  nonexistent   \n",
       "1  cellular   nov         fri  ...         1    999         0  nonexistent   \n",
       "2  cellular   jun         thu  ...         3      6         2      success   \n",
       "3  cellular   apr         fri  ...         2    999         0  nonexistent   \n",
       "4  cellular   aug         fri  ...         1      3         1      success   \n",
       "\n",
       "  emp_var_rate  cons_price_idx  cons_conf_idx  euribor3m  nr_employed  y  \n",
       "0          1.4          93.444          -36.1      4.963       5228.1  0  \n",
       "1         -0.1          93.200          -42.0      4.021       5195.8  0  \n",
       "2         -1.7          94.055          -39.8      0.729       4991.6  1  \n",
       "3         -1.8          93.075          -47.1      1.405       5099.1  0  \n",
       "4         -2.9          92.201          -31.4      0.869       5076.2  1  \n",
       "\n",
       "[5 rows x 21 columns]"
      ]
     },
     "execution_count": 3,
     "metadata": {},
     "output_type": "execute_result"
    }
   ],
   "source": [
    "print(\"Given Dataset :-\",\"\\n\",\"-\"*85)\n",
    "df=pd.read_csv(\"Practice Dataset.csv\")\n",
    "df.head()"
   ]
  },
  {
   "cell_type": "markdown",
   "id": "5209cea8",
   "metadata": {},
   "source": [
    "# First we perform Data Cleaning"
   ]
  },
  {
   "cell_type": "markdown",
   "id": "d951f25f",
   "metadata": {},
   "source": [
    "Checking for unknown values in each column and replacing with the mode :"
   ]
  },
  {
   "cell_type": "code",
   "execution_count": 4,
   "id": "3eba3bf3",
   "metadata": {
    "scrolled": true
   },
   "outputs": [
    {
     "data": {
      "text/plain": [
       "job\n",
       "admin.           107\n",
       "blue-collar      126\n",
       "entrepreneur      19\n",
       "housemaid         12\n",
       "management        43\n",
       "retired           22\n",
       "self-employed     22\n",
       "services          43\n",
       "student            8\n",
       "technician        79\n",
       "unemployed        14\n",
       "unknown            3\n",
       "Name: age, dtype: int64"
      ]
     },
     "execution_count": 4,
     "metadata": {},
     "output_type": "execute_result"
    }
   ],
   "source": [
    "df.groupby('job').count().age"
   ]
  },
  {
   "cell_type": "markdown",
   "id": "966298b2",
   "metadata": {},
   "source": [
    "Here 3 unknown values present,We will replace those by mode(blue-collar)."
   ]
  },
  {
   "cell_type": "code",
   "execution_count": 5,
   "id": "0626c58a",
   "metadata": {},
   "outputs": [
    {
     "data": {
      "text/plain": [
       "job\n",
       "admin.           107\n",
       "blue-collar      129\n",
       "entrepreneur      19\n",
       "housemaid         12\n",
       "management        43\n",
       "retired           22\n",
       "self-employed     22\n",
       "services          43\n",
       "student            8\n",
       "technician        79\n",
       "unemployed        14\n",
       "Name: age, dtype: int64"
      ]
     },
     "execution_count": 5,
     "metadata": {},
     "output_type": "execute_result"
    }
   ],
   "source": [
    "df['job'].replace('unknown','blue-collar',inplace=True)\n",
    "df.groupby('job').count().age"
   ]
  },
  {
   "cell_type": "code",
   "execution_count": 6,
   "id": "091a8f57",
   "metadata": {},
   "outputs": [
    {
     "data": {
      "text/plain": [
       "marital\n",
       "divorced     69\n",
       "married     306\n",
       "single      121\n",
       "unknown       2\n",
       "Name: age, dtype: int64"
      ]
     },
     "execution_count": 6,
     "metadata": {},
     "output_type": "execute_result"
    }
   ],
   "source": [
    "df.groupby('marital').count().age"
   ]
  },
  {
   "cell_type": "markdown",
   "id": "1250dee6",
   "metadata": {},
   "source": [
    "Here 2 unknown values present, we will replace those by (married)"
   ]
  },
  {
   "cell_type": "code",
   "execution_count": 7,
   "id": "dfd5b4b4",
   "metadata": {},
   "outputs": [
    {
     "data": {
      "text/plain": [
       "marital\n",
       "divorced     69\n",
       "married     308\n",
       "single      121\n",
       "Name: age, dtype: int64"
      ]
     },
     "execution_count": 7,
     "metadata": {},
     "output_type": "execute_result"
    }
   ],
   "source": [
    "df['marital'].replace('unknown','married',inplace=True)\n",
    "df.groupby('marital').count().age"
   ]
  },
  {
   "cell_type": "code",
   "execution_count": 8,
   "id": "dbb028a8",
   "metadata": {},
   "outputs": [
    {
     "data": {
      "text/plain": [
       "education\n",
       "basic.4y                52\n",
       "basic.6y                23\n",
       "basic.9y                76\n",
       "high.school            111\n",
       "professional.course     65\n",
       "university.degree      150\n",
       "unknown                 21\n",
       "Name: age, dtype: int64"
      ]
     },
     "execution_count": 8,
     "metadata": {},
     "output_type": "execute_result"
    }
   ],
   "source": [
    "df.groupby('education').count().age"
   ]
  },
  {
   "cell_type": "markdown",
   "id": "a9863e14",
   "metadata": {},
   "source": [
    "Here 21 unknown values present, we will replace those by(university.degree)"
   ]
  },
  {
   "cell_type": "code",
   "execution_count": 9,
   "id": "974b3805",
   "metadata": {
    "scrolled": true
   },
   "outputs": [
    {
     "data": {
      "text/plain": [
       "education\n",
       "basic                  151\n",
       "high.school            111\n",
       "professional.course     65\n",
       "university.degree      171\n",
       "Name: age, dtype: int64"
      ]
     },
     "execution_count": 9,
     "metadata": {},
     "output_type": "execute_result"
    }
   ],
   "source": [
    "df['education'].replace('unknown','university.degree',inplace=True)\n",
    "df['education'].replace('basic.4y','basic',inplace=True)\n",
    "df['education'].replace('basic.6y','basic',inplace=True)\n",
    "df['education'].replace('basic.9y','basic',inplace=True)\n",
    "df.groupby('education').count().age"
   ]
  },
  {
   "cell_type": "code",
   "execution_count": 10,
   "id": "279a2d11",
   "metadata": {},
   "outputs": [
    {
     "data": {
      "text/plain": [
       "housing\n",
       "no         215\n",
       "unknown     13\n",
       "yes        270\n",
       "Name: age, dtype: int64"
      ]
     },
     "execution_count": 10,
     "metadata": {},
     "output_type": "execute_result"
    }
   ],
   "source": [
    "df.groupby('housing').count().age"
   ]
  },
  {
   "cell_type": "markdown",
   "id": "b2d4670e",
   "metadata": {},
   "source": [
    "Here 13 unknown values are present, we will replace those by (yes)"
   ]
  },
  {
   "cell_type": "code",
   "execution_count": 11,
   "id": "ef209d53",
   "metadata": {
    "scrolled": true
   },
   "outputs": [
    {
     "data": {
      "text/plain": [
       "housing\n",
       "no     215\n",
       "yes    283\n",
       "Name: age, dtype: int64"
      ]
     },
     "execution_count": 11,
     "metadata": {},
     "output_type": "execute_result"
    }
   ],
   "source": [
    "df['housing'].replace('unknown','yes',inplace=True)\n",
    "df.groupby('housing').count().age"
   ]
  },
  {
   "cell_type": "code",
   "execution_count": 12,
   "id": "3e200948",
   "metadata": {},
   "outputs": [
    {
     "data": {
      "text/plain": [
       "loan\n",
       "no         426\n",
       "unknown     13\n",
       "yes         59\n",
       "Name: age, dtype: int64"
      ]
     },
     "execution_count": 12,
     "metadata": {},
     "output_type": "execute_result"
    }
   ],
   "source": [
    "df.groupby('loan').count().age"
   ]
  },
  {
   "cell_type": "markdown",
   "id": "c2bb7793",
   "metadata": {},
   "source": [
    "Here 13 unknown values are present, we will replace those by (no)"
   ]
  },
  {
   "cell_type": "code",
   "execution_count": 13,
   "id": "e59fc2cd",
   "metadata": {},
   "outputs": [
    {
     "data": {
      "text/plain": [
       "loan\n",
       "no     439\n",
       "yes     59\n",
       "Name: age, dtype: int64"
      ]
     },
     "execution_count": 13,
     "metadata": {},
     "output_type": "execute_result"
    }
   ],
   "source": [
    "df['loan'].replace('unknown','no',inplace=True)\n",
    "df.groupby('loan').count().age"
   ]
  },
  {
   "cell_type": "markdown",
   "id": "5d25e8fc",
   "metadata": {},
   "source": [
    "# Analizing Part"
   ]
  },
  {
   "cell_type": "code",
   "execution_count": 14,
   "id": "6dd67cf6",
   "metadata": {},
   "outputs": [
    {
     "name": "stdout",
     "output_type": "stream",
     "text": [
      "CrossTab : Job vs Y \n",
      " -------------------------------------------------------------------------------------\n"
     ]
    },
    {
     "data": {
      "image/png": "[encoded data removed]",
      "text/plain": [
       "<Figure size 432x288 with 1 Axes>"
      ]
     },
     "metadata": {
      "needs_background": "light"
     },
     "output_type": "display_data"
    }
   ],
   "source": [
    "pd.crosstab(df.job,df.y).plot(kind='bar')\n",
    "print(\"CrossTab : Job vs Y\",\"\\n\",\"-\"*85)\n",
    "plt.savefig(\"Job_Y.png\")"
   ]
  },
  {
   "cell_type": "markdown",
   "id": "4b7b24bb",
   "metadata": {},
   "source": [
    "We can see here the job does not have much impact on the subscription"
   ]
  },
  {
   "cell_type": "code",
   "execution_count": 15,
   "id": "276c8e8d",
   "metadata": {
    "scrolled": true
   },
   "outputs": [
    {
     "name": "stdout",
     "output_type": "stream",
     "text": [
      "CrossTab : Marital vs Y \n",
      " -------------------------------------------------------------------------------------\n"
     ]
    },
    {
     "data": {
      "image/png": "[encoded data removed]",
      "text/plain": [
       "<Figure size 432x288 with 1 Axes>"
      ]
     },
     "metadata": {
      "needs_background": "light"
     },
     "output_type": "display_data"
    }
   ],
   "source": [
    "pd.crosstab(df.marital,df.y).plot(kind='bar')\n",
    "print(\"CrossTab : Marital vs Y\",\"\\n\",\"-\"*85)"
   ]
  },
  {
   "cell_type": "markdown",
   "id": "f4289d50",
   "metadata": {},
   "source": [
    "Here single people have more tendency towards subscription"
   ]
  },
  {
   "cell_type": "code",
   "execution_count": 16,
   "id": "c799ee9c",
   "metadata": {},
   "outputs": [
    {
     "name": "stdout",
     "output_type": "stream",
     "text": [
      "CrossTab : Education vs Y \n",
      " -------------------------------------------------------------------------------------\n"
     ]
    },
    {
     "data": {
      "image/png": "[encoded data removed]",
      "text/plain": [
       "<Figure size 432x288 with 1 Axes>"
      ]
     },
     "metadata": {
      "needs_background": "light"
     },
     "output_type": "display_data"
    }
   ],
   "source": [
    "pd.crosstab(df.education,df.y).plot(kind='bar')\n",
    "print(\"CrossTab : Education vs Y\",\"\\n\",\"-\"*85)"
   ]
  },
  {
   "cell_type": "markdown",
   "id": "41834219",
   "metadata": {},
   "source": [
    "Also Education does not have much impact on the subscription"
   ]
  },
  {
   "cell_type": "code",
   "execution_count": 17,
   "id": "ce7046e8",
   "metadata": {
    "scrolled": true
   },
   "outputs": [
    {
     "data": {
      "text/plain": [
       "array([[<AxesSubplot:title={'center':'age'}>]], dtype=object)"
      ]
     },
     "execution_count": 17,
     "metadata": {},
     "output_type": "execute_result"
    },
    {
     "data": {
      "image/png": "[encoded data removed]",
      "text/plain": [
       "<Figure size 432x288 with 1 Axes>"
      ]
     },
     "metadata": {
      "needs_background": "light"
     },
     "output_type": "display_data"
    }
   ],
   "source": [
    "df.hist('age',bins=10)"
   ]
  },
  {
   "cell_type": "markdown",
   "id": "c4e784c6",
   "metadata": {},
   "source": [
    "Now creating bins for column AGE"
   ]
  },
  {
   "cell_type": "code",
   "execution_count": 18,
   "id": "a85cce83",
   "metadata": {},
   "outputs": [
    {
     "name": "stderr",
     "output_type": "stream",
     "text": [
      "<ipython-input-18-dcd307f66a5a>:2: UserWarning: Pandas doesn't allow columns to be created via a new attribute name - see https://pandas.pydata.org/pandas-docs/stable/indexing.html#attribute-access\n",
      "  df.age_bins=pd.cut(df.age,bins)\n"
     ]
    }
   ],
   "source": [
    "bins=[20,30,40,50,60,70,80]\n",
    "df.age_bins=pd.cut(df.age,bins)"
   ]
  },
  {
   "cell_type": "code",
   "execution_count": 19,
   "id": "ebb58e17",
   "metadata": {},
   "outputs": [
    {
     "name": "stdout",
     "output_type": "stream",
     "text": [
      "CrossTab : Age vs Y \n",
      " -------------------------------------------------------------------------------------\n"
     ]
    },
    {
     "data": {
      "image/png": "[encoded data removed]",
      "text/plain": [
       "<Figure size 432x288 with 1 Axes>"
      ]
     },
     "metadata": {
      "needs_background": "light"
     },
     "output_type": "display_data"
    }
   ],
   "source": [
    "pd.crosstab(df.age_bins,df.y).plot(kind='bar')\n",
    "print(\"CrossTab : Age vs Y\",\"\\n\",\"-\"*85)"
   ]
  },
  {
   "cell_type": "markdown",
   "id": "a53515a4",
   "metadata": {},
   "source": [
    "As age increases number of subscription increases.\n",
    "Retired people have more tendency towards subscription"
   ]
  },
  {
   "cell_type": "code",
   "execution_count": 20,
   "id": "93bd5608",
   "metadata": {
    "scrolled": true
   },
   "outputs": [
    {
     "name": "stdout",
     "output_type": "stream",
     "text": [
      "CrossTab : Day_of_week vs Y \n",
      " -------------------------------------------------------------------------------------\n"
     ]
    },
    {
     "data": {
      "image/png": "[encoded data removed]",
      "text/plain": [
       "<Figure size 432x288 with 1 Axes>"
      ]
     },
     "metadata": {
      "needs_background": "light"
     },
     "output_type": "display_data"
    }
   ],
   "source": [
    "pd.crosstab(df.day_of_week,df.y).plot(kind='bar')\n",
    "print(\"CrossTab : Day_of_week vs Y\",\"\\n\",\"-\"*85)"
   ]
  },
  {
   "cell_type": "markdown",
   "id": "709f8d93",
   "metadata": {},
   "source": [
    "The day of week does not have any impact on Subscription."
   ]
  },
  {
   "cell_type": "code",
   "execution_count": 21,
   "id": "415764dc",
   "metadata": {},
   "outputs": [
    {
     "name": "stdout",
     "output_type": "stream",
     "text": [
      "CrossTab : Month vs Y \n",
      " -------------------------------------------------------------------------------------\n"
     ]
    },
    {
     "data": {
      "image/png": "[encoded data removed]",
      "text/plain": [
       "<Figure size 432x288 with 1 Axes>"
      ]
     },
     "metadata": {
      "needs_background": "light"
     },
     "output_type": "display_data"
    }
   ],
   "source": [
    "pd.crosstab(df.month,df.y).plot(kind='bar')\n",
    "print(\"CrossTab : Month vs Y\",\"\\n\",\"-\"*85)"
   ]
  },
  {
   "cell_type": "markdown",
   "id": "1979b176",
   "metadata": {},
   "source": [
    "Decenber, March campaings have more success rates towards subscription."
   ]
  },
  {
   "cell_type": "code",
   "execution_count": 22,
   "id": "2d69d951",
   "metadata": {},
   "outputs": [
    {
     "name": "stdout",
     "output_type": "stream",
     "text": [
      "CrossTab : Poutcome vs Y \n",
      " -------------------------------------------------------------------------------------\n"
     ]
    },
    {
     "data": {
      "image/png": "[encoded data removed]",
      "text/plain": [
       "<Figure size 432x288 with 1 Axes>"
      ]
     },
     "metadata": {
      "needs_background": "light"
     },
     "output_type": "display_data"
    }
   ],
   "source": [
    "pd.crosstab(df.poutcome,df.y).plot(kind='bar')\n",
    "print(\"CrossTab : Poutcome vs Y\",\"\\n\",\"-\"*85)"
   ]
  },
  {
   "cell_type": "code",
   "execution_count": 23,
   "id": "b51edbd1",
   "metadata": {},
   "outputs": [],
   "source": [
    "# poutcome: outcome of the previous marketing campaign."
   ]
  },
  {
   "cell_type": "code",
   "execution_count": 24,
   "id": "8c042e95",
   "metadata": {
    "scrolled": false
   },
   "outputs": [
    {
     "name": "stdout",
     "output_type": "stream",
     "text": [
      "CrossTab : pdays vs Y \n",
      " -------------------------------------------------------------------------------------\n"
     ]
    },
    {
     "data": {
      "image/png": "[encoded data removed]",
      "text/plain": [
       "<Figure size 720x720 with 1 Axes>"
      ]
     },
     "metadata": {
      "needs_background": "light"
     },
     "output_type": "display_data"
    }
   ],
   "source": [
    "pd.crosstab(df.pdays,df.y).plot(kind='bar',figsize=(10,10))\n",
    "print(\"CrossTab : pdays vs Y\",\"\\n\",\"-\"*85)"
   ]
  },
  {
   "cell_type": "markdown",
   "id": "3a6507e6",
   "metadata": {},
   "source": [
    "Here we see if any person is interested, he will subscribe after last contact within 14 days. After 15th day we can conclude that he was not interested to subscribe."
   ]
  },
  {
   "cell_type": "code",
   "execution_count": 25,
   "id": "e1a17a3b",
   "metadata": {},
   "outputs": [
    {
     "name": "stdout",
     "output_type": "stream",
     "text": [
      "CrossTab : Campaign vs Y \n",
      " -------------------------------------------------------------------------------------\n"
     ]
    },
    {
     "data": {
      "image/png": "[encoded data removed]",
      "text/plain": [
       "<Figure size 720x720 with 1 Axes>"
      ]
     },
     "metadata": {
      "needs_background": "light"
     },
     "output_type": "display_data"
    }
   ],
   "source": [
    "pd.crosstab(df.campaign,df.y).plot(kind='bar',figsize=(10,10))\n",
    "print(\"CrossTab : Campaign vs Y\",\"\\n\",\"-\"*85)"
   ]
  },
  {
   "cell_type": "markdown",
   "id": "af64ab06",
   "metadata": {},
   "source": [
    "#campaign: number of contacts performed during this campaign and for this client.\n",
    "Here we can say there is no need to contact a person more than 10 days in a campaign (we can say he is not interested)"
   ]
  },
  {
   "cell_type": "markdown",
   "id": "421babe3",
   "metadata": {},
   "source": [
    "\n",
    "# Now we do Hot-coding for regression purpose."
   ]
  },
  {
   "cell_type": "code",
   "execution_count": 26,
   "id": "e95511ee",
   "metadata": {},
   "outputs": [
    {
     "name": "stdout",
     "output_type": "stream",
     "text": [
      "<class 'pandas.core.frame.DataFrame'>\n",
      "RangeIndex: 498 entries, 0 to 497\n",
      "Data columns (total 21 columns):\n",
      " #   Column          Non-Null Count  Dtype  \n",
      "---  ------          --------------  -----  \n",
      " 0   age             498 non-null    int64  \n",
      " 1   job             498 non-null    object \n",
      " 2   marital         498 non-null    object \n",
      " 3   education       498 non-null    object \n",
      " 4   default         498 non-null    object \n",
      " 5   housing         498 non-null    object \n",
      " 6   loan            498 non-null    object \n",
      " 7   contact         498 non-null    object \n",
      " 8   month           498 non-null    object \n",
      " 9   day_of_week     498 non-null    object \n",
      " 10  duration        498 non-null    int64  \n",
      " 11  campaign        498 non-null    int64  \n",
      " 12  pdays           498 non-null    int64  \n",
      " 13  previous        498 non-null    int64  \n",
      " 14  poutcome        498 non-null    object \n",
      " 15  emp_var_rate    498 non-null    float64\n",
      " 16  cons_price_idx  498 non-null    float64\n",
      " 17  cons_conf_idx   498 non-null    float64\n",
      " 18  euribor3m       498 non-null    float64\n",
      " 19  nr_employed     498 non-null    float64\n",
      " 20  y               498 non-null    int64  \n",
      "dtypes: float64(5), int64(6), object(10)\n",
      "memory usage: 62.3+ KB\n"
     ]
    }
   ],
   "source": [
    "df.info()"
   ]
  },
  {
   "cell_type": "code",
   "execution_count": 27,
   "id": "cad9e1bb",
   "metadata": {},
   "outputs": [],
   "source": [
    "df=pd.get_dummies(df,columns=[\"job\",\"marital\",\"education\",\"default\",\"housing\",\"loan\",\"contact\",\"month\",\"day_of_week\",\"poutcome\"]) "
   ]
  },
  {
   "cell_type": "code",
   "execution_count": 28,
   "id": "1ae5d330",
   "metadata": {},
   "outputs": [
    {
     "name": "stdout",
     "output_type": "stream",
     "text": [
      "<class 'pandas.core.frame.DataFrame'>\n",
      "RangeIndex: 498 entries, 0 to 497\n",
      "Data columns (total 56 columns):\n",
      " #   Column                         Non-Null Count  Dtype  \n",
      "---  ------                         --------------  -----  \n",
      " 0   age                            498 non-null    int64  \n",
      " 1   duration                       498 non-null    int64  \n",
      " 2   campaign                       498 non-null    int64  \n",
      " 3   pdays                          498 non-null    int64  \n",
      " 4   previous                       498 non-null    int64  \n",
      " 5   emp_var_rate                   498 non-null    float64\n",
      " 6   cons_price_idx                 498 non-null    float64\n",
      " 7   cons_conf_idx                  498 non-null    float64\n",
      " 8   euribor3m                      498 non-null    float64\n",
      " 9   nr_employed                    498 non-null    float64\n",
      " 10  y                              498 non-null    int64  \n",
      " 11  job_admin.                     498 non-null    uint8  \n",
      " 12  job_blue-collar                498 non-null    uint8  \n",
      " 13  job_entrepreneur               498 non-null    uint8  \n",
      " 14  job_housemaid                  498 non-null    uint8  \n",
      " 15  job_management                 498 non-null    uint8  \n",
      " 16  job_retired                    498 non-null    uint8  \n",
      " 17  job_self-employed              498 non-null    uint8  \n",
      " 18  job_services                   498 non-null    uint8  \n",
      " 19  job_student                    498 non-null    uint8  \n",
      " 20  job_technician                 498 non-null    uint8  \n",
      " 21  job_unemployed                 498 non-null    uint8  \n",
      " 22  marital_divorced               498 non-null    uint8  \n",
      " 23  marital_married                498 non-null    uint8  \n",
      " 24  marital_single                 498 non-null    uint8  \n",
      " 25  education_basic                498 non-null    uint8  \n",
      " 26  education_high.school          498 non-null    uint8  \n",
      " 27  education_professional.course  498 non-null    uint8  \n",
      " 28  education_university.degree    498 non-null    uint8  \n",
      " 29  default_no                     498 non-null    uint8  \n",
      " 30  default_unknown                498 non-null    uint8  \n",
      " 31  default_yes                    498 non-null    uint8  \n",
      " 32  housing_no                     498 non-null    uint8  \n",
      " 33  housing_yes                    498 non-null    uint8  \n",
      " 34  loan_no                        498 non-null    uint8  \n",
      " 35  loan_yes                       498 non-null    uint8  \n",
      " 36  contact_cellular               498 non-null    uint8  \n",
      " 37  contact_telephone              498 non-null    uint8  \n",
      " 38  month_apr                      498 non-null    uint8  \n",
      " 39  month_aug                      498 non-null    uint8  \n",
      " 40  month_dec                      498 non-null    uint8  \n",
      " 41  month_jul                      498 non-null    uint8  \n",
      " 42  month_jun                      498 non-null    uint8  \n",
      " 43  month_mar                      498 non-null    uint8  \n",
      " 44  month_may                      498 non-null    uint8  \n",
      " 45  month_nov                      498 non-null    uint8  \n",
      " 46  month_oct                      498 non-null    uint8  \n",
      " 47  month_sep                      498 non-null    uint8  \n",
      " 48  day_of_week_fri                498 non-null    uint8  \n",
      " 49  day_of_week_mon                498 non-null    uint8  \n",
      " 50  day_of_week_thu                498 non-null    uint8  \n",
      " 51  day_of_week_tue                498 non-null    uint8  \n",
      " 52  day_of_week_wed                498 non-null    uint8  \n",
      " 53  poutcome_failure               498 non-null    uint8  \n",
      " 54  poutcome_nonexistent           498 non-null    uint8  \n",
      " 55  poutcome_success               498 non-null    uint8  \n",
      "dtypes: float64(5), int64(6), uint8(45)\n",
      "memory usage: 64.7 KB\n"
     ]
    }
   ],
   "source": [
    "df.info()"
   ]
  },
  {
   "cell_type": "markdown",
   "id": "2696819d",
   "metadata": {},
   "source": [
    "# Regression Part"
   ]
  },
  {
   "cell_type": "code",
   "execution_count": 29,
   "id": "59d523ff",
   "metadata": {},
   "outputs": [],
   "source": [
    "from sklearn.model_selection import train_test_split"
   ]
  },
  {
   "cell_type": "code",
   "execution_count": 30,
   "id": "5a25ff66",
   "metadata": {},
   "outputs": [],
   "source": [
    "x=df.drop([\"y\"],axis=1)\n",
    "y=df[\"y\"]"
   ]
  },
  {
   "cell_type": "code",
   "execution_count": 31,
   "id": "72323f06",
   "metadata": {},
   "outputs": [
    {
     "data": {
      "text/html": [
       "<div>\n",
       "<style scoped>\n",
       "    .dataframe tbody tr th:only-of-type {\n",
       "        vertical-align: middle;\n",
       "    }\n",
       "\n",
       "    .dataframe tbody tr th {\n",
       "        vertical-align: top;\n",
       "    }\n",
       "\n",
       "    .dataframe thead th {\n",
       "        text-align: right;\n",
       "    }\n",
       "</style>\n",
       "<table border=\"1\" class=\"dataframe\">\n",
       "  <thead>\n",
       "    <tr style=\"text-align: right;\">\n",
       "      <th></th>\n",
       "      <th>age</th>\n",
       "      <th>duration</th>\n",
       "      <th>campaign</th>\n",
       "      <th>pdays</th>\n",
       "      <th>previous</th>\n",
       "      <th>emp_var_rate</th>\n",
       "      <th>cons_price_idx</th>\n",
       "      <th>cons_conf_idx</th>\n",
       "      <th>euribor3m</th>\n",
       "      <th>nr_employed</th>\n",
       "      <th>...</th>\n",
       "      <th>month_oct</th>\n",
       "      <th>month_sep</th>\n",
       "      <th>day_of_week_fri</th>\n",
       "      <th>day_of_week_mon</th>\n",
       "      <th>day_of_week_thu</th>\n",
       "      <th>day_of_week_tue</th>\n",
       "      <th>day_of_week_wed</th>\n",
       "      <th>poutcome_failure</th>\n",
       "      <th>poutcome_nonexistent</th>\n",
       "      <th>poutcome_success</th>\n",
       "    </tr>\n",
       "  </thead>\n",
       "  <tbody>\n",
       "    <tr>\n",
       "      <th>0</th>\n",
       "      <td>44</td>\n",
       "      <td>210</td>\n",
       "      <td>1</td>\n",
       "      <td>999</td>\n",
       "      <td>0</td>\n",
       "      <td>1.4</td>\n",
       "      <td>93.444</td>\n",
       "      <td>-36.1</td>\n",
       "      <td>4.963</td>\n",
       "      <td>5228.1</td>\n",
       "      <td>...</td>\n",
       "      <td>0</td>\n",
       "      <td>0</td>\n",
       "      <td>0</td>\n",
       "      <td>0</td>\n",
       "      <td>1</td>\n",
       "      <td>0</td>\n",
       "      <td>0</td>\n",
       "      <td>0</td>\n",
       "      <td>1</td>\n",
       "      <td>0</td>\n",
       "    </tr>\n",
       "    <tr>\n",
       "      <th>1</th>\n",
       "      <td>53</td>\n",
       "      <td>138</td>\n",
       "      <td>1</td>\n",
       "      <td>999</td>\n",
       "      <td>0</td>\n",
       "      <td>-0.1</td>\n",
       "      <td>93.200</td>\n",
       "      <td>-42.0</td>\n",
       "      <td>4.021</td>\n",
       "      <td>5195.8</td>\n",
       "      <td>...</td>\n",
       "      <td>0</td>\n",
       "      <td>0</td>\n",
       "      <td>1</td>\n",
       "      <td>0</td>\n",
       "      <td>0</td>\n",
       "      <td>0</td>\n",
       "      <td>0</td>\n",
       "      <td>0</td>\n",
       "      <td>1</td>\n",
       "      <td>0</td>\n",
       "    </tr>\n",
       "    <tr>\n",
       "      <th>2</th>\n",
       "      <td>28</td>\n",
       "      <td>339</td>\n",
       "      <td>3</td>\n",
       "      <td>6</td>\n",
       "      <td>2</td>\n",
       "      <td>-1.7</td>\n",
       "      <td>94.055</td>\n",
       "      <td>-39.8</td>\n",
       "      <td>0.729</td>\n",
       "      <td>4991.6</td>\n",
       "      <td>...</td>\n",
       "      <td>0</td>\n",
       "      <td>0</td>\n",
       "      <td>0</td>\n",
       "      <td>0</td>\n",
       "      <td>1</td>\n",
       "      <td>0</td>\n",
       "      <td>0</td>\n",
       "      <td>0</td>\n",
       "      <td>0</td>\n",
       "      <td>1</td>\n",
       "    </tr>\n",
       "    <tr>\n",
       "      <th>3</th>\n",
       "      <td>39</td>\n",
       "      <td>185</td>\n",
       "      <td>2</td>\n",
       "      <td>999</td>\n",
       "      <td>0</td>\n",
       "      <td>-1.8</td>\n",
       "      <td>93.075</td>\n",
       "      <td>-47.1</td>\n",
       "      <td>1.405</td>\n",
       "      <td>5099.1</td>\n",
       "      <td>...</td>\n",
       "      <td>0</td>\n",
       "      <td>0</td>\n",
       "      <td>1</td>\n",
       "      <td>0</td>\n",
       "      <td>0</td>\n",
       "      <td>0</td>\n",
       "      <td>0</td>\n",
       "      <td>0</td>\n",
       "      <td>1</td>\n",
       "      <td>0</td>\n",
       "    </tr>\n",
       "    <tr>\n",
       "      <th>4</th>\n",
       "      <td>55</td>\n",
       "      <td>137</td>\n",
       "      <td>1</td>\n",
       "      <td>3</td>\n",
       "      <td>1</td>\n",
       "      <td>-2.9</td>\n",
       "      <td>92.201</td>\n",
       "      <td>-31.4</td>\n",
       "      <td>0.869</td>\n",
       "      <td>5076.2</td>\n",
       "      <td>...</td>\n",
       "      <td>0</td>\n",
       "      <td>0</td>\n",
       "      <td>1</td>\n",
       "      <td>0</td>\n",
       "      <td>0</td>\n",
       "      <td>0</td>\n",
       "      <td>0</td>\n",
       "      <td>0</td>\n",
       "      <td>0</td>\n",
       "      <td>1</td>\n",
       "    </tr>\n",
       "  </tbody>\n",
       "</table>\n",
       "<p>5 rows × 55 columns</p>\n",
       "</div>"
      ],
      "text/plain": [
       "   age  duration  campaign  pdays  previous  emp_var_rate  cons_price_idx  \\\n",
       "0   44       210         1    999         0           1.4          93.444   \n",
       "1   53       138         1    999         0          -0.1          93.200   \n",
       "2   28       339         3      6         2          -1.7          94.055   \n",
       "3   39       185         2    999         0          -1.8          93.075   \n",
       "4   55       137         1      3         1          -2.9          92.201   \n",
       "\n",
       "   cons_conf_idx  euribor3m  nr_employed  ...  month_oct  month_sep  \\\n",
       "0          -36.1      4.963       5228.1  ...          0          0   \n",
       "1          -42.0      4.021       5195.8  ...          0          0   \n",
       "2          -39.8      0.729       4991.6  ...          0          0   \n",
       "3          -47.1      1.405       5099.1  ...          0          0   \n",
       "4          -31.4      0.869       5076.2  ...          0          0   \n",
       "\n",
       "   day_of_week_fri  day_of_week_mon  day_of_week_thu  day_of_week_tue  \\\n",
       "0                0                0                1                0   \n",
       "1                1                0                0                0   \n",
       "2                0                0                1                0   \n",
       "3                1                0                0                0   \n",
       "4                1                0                0                0   \n",
       "\n",
       "   day_of_week_wed  poutcome_failure  poutcome_nonexistent  poutcome_success  \n",
       "0                0                 0                     1                 0  \n",
       "1                0                 0                     1                 0  \n",
       "2                0                 0                     0                 1  \n",
       "3                0                 0                     1                 0  \n",
       "4                0                 0                     0                 1  \n",
       "\n",
       "[5 rows x 55 columns]"
      ]
     },
     "execution_count": 31,
     "metadata": {},
     "output_type": "execute_result"
    }
   ],
   "source": [
    "x.head()"
   ]
  },
  {
   "cell_type": "code",
   "execution_count": 32,
   "id": "1faeac27",
   "metadata": {},
   "outputs": [
    {
     "data": {
      "text/plain": [
       "0    0\n",
       "1    0\n",
       "2    1\n",
       "3    0\n",
       "4    1\n",
       "Name: y, dtype: int64"
      ]
     },
     "execution_count": 32,
     "metadata": {},
     "output_type": "execute_result"
    }
   ],
   "source": [
    "y.head()"
   ]
  },
  {
   "cell_type": "code",
   "execution_count": 33,
   "id": "13cb0153",
   "metadata": {},
   "outputs": [],
   "source": [
    "xtrain,xtest,ytrain,ytest=train_test_split(x,y,test_size=0.30,random_state=0) "
   ]
  },
  {
   "cell_type": "code",
   "execution_count": 34,
   "id": "4f08323b",
   "metadata": {},
   "outputs": [
    {
     "data": {
      "text/html": [
       "<div>\n",
       "<style scoped>\n",
       "    .dataframe tbody tr th:only-of-type {\n",
       "        vertical-align: middle;\n",
       "    }\n",
       "\n",
       "    .dataframe tbody tr th {\n",
       "        vertical-align: top;\n",
       "    }\n",
       "\n",
       "    .dataframe thead th {\n",
       "        text-align: right;\n",
       "    }\n",
       "</style>\n",
       "<table border=\"1\" class=\"dataframe\">\n",
       "  <thead>\n",
       "    <tr style=\"text-align: right;\">\n",
       "      <th></th>\n",
       "      <th>age</th>\n",
       "      <th>duration</th>\n",
       "      <th>campaign</th>\n",
       "      <th>pdays</th>\n",
       "      <th>previous</th>\n",
       "      <th>emp_var_rate</th>\n",
       "      <th>cons_price_idx</th>\n",
       "      <th>cons_conf_idx</th>\n",
       "      <th>euribor3m</th>\n",
       "      <th>nr_employed</th>\n",
       "      <th>...</th>\n",
       "      <th>month_oct</th>\n",
       "      <th>month_sep</th>\n",
       "      <th>day_of_week_fri</th>\n",
       "      <th>day_of_week_mon</th>\n",
       "      <th>day_of_week_thu</th>\n",
       "      <th>day_of_week_tue</th>\n",
       "      <th>day_of_week_wed</th>\n",
       "      <th>poutcome_failure</th>\n",
       "      <th>poutcome_nonexistent</th>\n",
       "      <th>poutcome_success</th>\n",
       "    </tr>\n",
       "  </thead>\n",
       "  <tbody>\n",
       "    <tr>\n",
       "      <th>141</th>\n",
       "      <td>39</td>\n",
       "      <td>102</td>\n",
       "      <td>1</td>\n",
       "      <td>999</td>\n",
       "      <td>0</td>\n",
       "      <td>1.4</td>\n",
       "      <td>94.465</td>\n",
       "      <td>-41.8</td>\n",
       "      <td>4.864</td>\n",
       "      <td>5228.1</td>\n",
       "      <td>...</td>\n",
       "      <td>0</td>\n",
       "      <td>0</td>\n",
       "      <td>0</td>\n",
       "      <td>0</td>\n",
       "      <td>0</td>\n",
       "      <td>1</td>\n",
       "      <td>0</td>\n",
       "      <td>0</td>\n",
       "      <td>1</td>\n",
       "      <td>0</td>\n",
       "    </tr>\n",
       "    <tr>\n",
       "      <th>381</th>\n",
       "      <td>30</td>\n",
       "      <td>160</td>\n",
       "      <td>1</td>\n",
       "      <td>999</td>\n",
       "      <td>0</td>\n",
       "      <td>1.4</td>\n",
       "      <td>93.444</td>\n",
       "      <td>-36.1</td>\n",
       "      <td>4.970</td>\n",
       "      <td>5228.1</td>\n",
       "      <td>...</td>\n",
       "      <td>0</td>\n",
       "      <td>0</td>\n",
       "      <td>0</td>\n",
       "      <td>1</td>\n",
       "      <td>0</td>\n",
       "      <td>0</td>\n",
       "      <td>0</td>\n",
       "      <td>0</td>\n",
       "      <td>1</td>\n",
       "      <td>0</td>\n",
       "    </tr>\n",
       "    <tr>\n",
       "      <th>135</th>\n",
       "      <td>29</td>\n",
       "      <td>14</td>\n",
       "      <td>5</td>\n",
       "      <td>999</td>\n",
       "      <td>1</td>\n",
       "      <td>-1.8</td>\n",
       "      <td>92.893</td>\n",
       "      <td>-46.2</td>\n",
       "      <td>1.313</td>\n",
       "      <td>5099.1</td>\n",
       "      <td>...</td>\n",
       "      <td>0</td>\n",
       "      <td>0</td>\n",
       "      <td>1</td>\n",
       "      <td>0</td>\n",
       "      <td>0</td>\n",
       "      <td>0</td>\n",
       "      <td>0</td>\n",
       "      <td>1</td>\n",
       "      <td>0</td>\n",
       "      <td>0</td>\n",
       "    </tr>\n",
       "    <tr>\n",
       "      <th>491</th>\n",
       "      <td>37</td>\n",
       "      <td>596</td>\n",
       "      <td>1</td>\n",
       "      <td>999</td>\n",
       "      <td>0</td>\n",
       "      <td>1.1</td>\n",
       "      <td>93.994</td>\n",
       "      <td>-36.4</td>\n",
       "      <td>4.857</td>\n",
       "      <td>5191.0</td>\n",
       "      <td>...</td>\n",
       "      <td>0</td>\n",
       "      <td>0</td>\n",
       "      <td>0</td>\n",
       "      <td>1</td>\n",
       "      <td>0</td>\n",
       "      <td>0</td>\n",
       "      <td>0</td>\n",
       "      <td>0</td>\n",
       "      <td>1</td>\n",
       "      <td>0</td>\n",
       "    </tr>\n",
       "    <tr>\n",
       "      <th>122</th>\n",
       "      <td>31</td>\n",
       "      <td>98</td>\n",
       "      <td>8</td>\n",
       "      <td>999</td>\n",
       "      <td>0</td>\n",
       "      <td>1.4</td>\n",
       "      <td>93.444</td>\n",
       "      <td>-36.1</td>\n",
       "      <td>4.962</td>\n",
       "      <td>5228.1</td>\n",
       "      <td>...</td>\n",
       "      <td>0</td>\n",
       "      <td>0</td>\n",
       "      <td>0</td>\n",
       "      <td>0</td>\n",
       "      <td>1</td>\n",
       "      <td>0</td>\n",
       "      <td>0</td>\n",
       "      <td>0</td>\n",
       "      <td>1</td>\n",
       "      <td>0</td>\n",
       "    </tr>\n",
       "  </tbody>\n",
       "</table>\n",
       "<p>5 rows × 55 columns</p>\n",
       "</div>"
      ],
      "text/plain": [
       "     age  duration  campaign  pdays  previous  emp_var_rate  cons_price_idx  \\\n",
       "141   39       102         1    999         0           1.4          94.465   \n",
       "381   30       160         1    999         0           1.4          93.444   \n",
       "135   29        14         5    999         1          -1.8          92.893   \n",
       "491   37       596         1    999         0           1.1          93.994   \n",
       "122   31        98         8    999         0           1.4          93.444   \n",
       "\n",
       "     cons_conf_idx  euribor3m  nr_employed  ...  month_oct  month_sep  \\\n",
       "141          -41.8      4.864       5228.1  ...          0          0   \n",
       "381          -36.1      4.970       5228.1  ...          0          0   \n",
       "135          -46.2      1.313       5099.1  ...          0          0   \n",
       "491          -36.4      4.857       5191.0  ...          0          0   \n",
       "122          -36.1      4.962       5228.1  ...          0          0   \n",
       "\n",
       "     day_of_week_fri  day_of_week_mon  day_of_week_thu  day_of_week_tue  \\\n",
       "141                0                0                0                1   \n",
       "381                0                1                0                0   \n",
       "135                1                0                0                0   \n",
       "491                0                1                0                0   \n",
       "122                0                0                1                0   \n",
       "\n",
       "     day_of_week_wed  poutcome_failure  poutcome_nonexistent  poutcome_success  \n",
       "141                0                 0                     1                 0  \n",
       "381                0                 0                     1                 0  \n",
       "135                0                 1                     0                 0  \n",
       "491                0                 0                     1                 0  \n",
       "122                0                 0                     1                 0  \n",
       "\n",
       "[5 rows x 55 columns]"
      ]
     },
     "execution_count": 34,
     "metadata": {},
     "output_type": "execute_result"
    }
   ],
   "source": [
    "xtrain.head()"
   ]
  },
  {
   "cell_type": "code",
   "execution_count": 35,
   "id": "0ebaeb1e",
   "metadata": {},
   "outputs": [
    {
     "data": {
      "text/plain": [
       "141    0\n",
       "381    0\n",
       "135    0\n",
       "491    0\n",
       "122    0\n",
       "Name: y, dtype: int64"
      ]
     },
     "execution_count": 35,
     "metadata": {},
     "output_type": "execute_result"
    }
   ],
   "source": [
    "ytrain.head()"
   ]
  },
  {
   "cell_type": "code",
   "execution_count": 36,
   "id": "1e7a68b6",
   "metadata": {},
   "outputs": [
    {
     "data": {
      "text/html": [
       "<div>\n",
       "<style scoped>\n",
       "    .dataframe tbody tr th:only-of-type {\n",
       "        vertical-align: middle;\n",
       "    }\n",
       "\n",
       "    .dataframe tbody tr th {\n",
       "        vertical-align: top;\n",
       "    }\n",
       "\n",
       "    .dataframe thead th {\n",
       "        text-align: right;\n",
       "    }\n",
       "</style>\n",
       "<table border=\"1\" class=\"dataframe\">\n",
       "  <thead>\n",
       "    <tr style=\"text-align: right;\">\n",
       "      <th></th>\n",
       "      <th>age</th>\n",
       "      <th>duration</th>\n",
       "      <th>campaign</th>\n",
       "      <th>pdays</th>\n",
       "      <th>previous</th>\n",
       "      <th>emp_var_rate</th>\n",
       "      <th>cons_price_idx</th>\n",
       "      <th>cons_conf_idx</th>\n",
       "      <th>euribor3m</th>\n",
       "      <th>nr_employed</th>\n",
       "      <th>...</th>\n",
       "      <th>month_oct</th>\n",
       "      <th>month_sep</th>\n",
       "      <th>day_of_week_fri</th>\n",
       "      <th>day_of_week_mon</th>\n",
       "      <th>day_of_week_thu</th>\n",
       "      <th>day_of_week_tue</th>\n",
       "      <th>day_of_week_wed</th>\n",
       "      <th>poutcome_failure</th>\n",
       "      <th>poutcome_nonexistent</th>\n",
       "      <th>poutcome_success</th>\n",
       "    </tr>\n",
       "  </thead>\n",
       "  <tbody>\n",
       "    <tr>\n",
       "      <th>90</th>\n",
       "      <td>40</td>\n",
       "      <td>160</td>\n",
       "      <td>1</td>\n",
       "      <td>999</td>\n",
       "      <td>0</td>\n",
       "      <td>-0.1</td>\n",
       "      <td>93.200</td>\n",
       "      <td>-42.0</td>\n",
       "      <td>4.245</td>\n",
       "      <td>5195.8</td>\n",
       "      <td>...</td>\n",
       "      <td>0</td>\n",
       "      <td>0</td>\n",
       "      <td>0</td>\n",
       "      <td>0</td>\n",
       "      <td>1</td>\n",
       "      <td>0</td>\n",
       "      <td>0</td>\n",
       "      <td>0</td>\n",
       "      <td>1</td>\n",
       "      <td>0</td>\n",
       "    </tr>\n",
       "    <tr>\n",
       "      <th>254</th>\n",
       "      <td>43</td>\n",
       "      <td>190</td>\n",
       "      <td>1</td>\n",
       "      <td>999</td>\n",
       "      <td>0</td>\n",
       "      <td>1.1</td>\n",
       "      <td>93.994</td>\n",
       "      <td>-36.4</td>\n",
       "      <td>4.857</td>\n",
       "      <td>5191.0</td>\n",
       "      <td>...</td>\n",
       "      <td>0</td>\n",
       "      <td>0</td>\n",
       "      <td>0</td>\n",
       "      <td>0</td>\n",
       "      <td>0</td>\n",
       "      <td>1</td>\n",
       "      <td>0</td>\n",
       "      <td>0</td>\n",
       "      <td>1</td>\n",
       "      <td>0</td>\n",
       "    </tr>\n",
       "    <tr>\n",
       "      <th>283</th>\n",
       "      <td>54</td>\n",
       "      <td>258</td>\n",
       "      <td>2</td>\n",
       "      <td>999</td>\n",
       "      <td>0</td>\n",
       "      <td>-2.9</td>\n",
       "      <td>92.963</td>\n",
       "      <td>-40.8</td>\n",
       "      <td>1.268</td>\n",
       "      <td>5076.2</td>\n",
       "      <td>...</td>\n",
       "      <td>0</td>\n",
       "      <td>0</td>\n",
       "      <td>1</td>\n",
       "      <td>0</td>\n",
       "      <td>0</td>\n",
       "      <td>0</td>\n",
       "      <td>0</td>\n",
       "      <td>0</td>\n",
       "      <td>1</td>\n",
       "      <td>0</td>\n",
       "    </tr>\n",
       "    <tr>\n",
       "      <th>443</th>\n",
       "      <td>44</td>\n",
       "      <td>292</td>\n",
       "      <td>1</td>\n",
       "      <td>999</td>\n",
       "      <td>0</td>\n",
       "      <td>1.4</td>\n",
       "      <td>93.918</td>\n",
       "      <td>-42.7</td>\n",
       "      <td>4.962</td>\n",
       "      <td>5228.1</td>\n",
       "      <td>...</td>\n",
       "      <td>0</td>\n",
       "      <td>0</td>\n",
       "      <td>0</td>\n",
       "      <td>1</td>\n",
       "      <td>0</td>\n",
       "      <td>0</td>\n",
       "      <td>0</td>\n",
       "      <td>0</td>\n",
       "      <td>1</td>\n",
       "      <td>0</td>\n",
       "    </tr>\n",
       "    <tr>\n",
       "      <th>336</th>\n",
       "      <td>39</td>\n",
       "      <td>76</td>\n",
       "      <td>4</td>\n",
       "      <td>999</td>\n",
       "      <td>0</td>\n",
       "      <td>1.4</td>\n",
       "      <td>93.918</td>\n",
       "      <td>-42.7</td>\n",
       "      <td>4.957</td>\n",
       "      <td>5228.1</td>\n",
       "      <td>...</td>\n",
       "      <td>0</td>\n",
       "      <td>0</td>\n",
       "      <td>1</td>\n",
       "      <td>0</td>\n",
       "      <td>0</td>\n",
       "      <td>0</td>\n",
       "      <td>0</td>\n",
       "      <td>0</td>\n",
       "      <td>1</td>\n",
       "      <td>0</td>\n",
       "    </tr>\n",
       "  </tbody>\n",
       "</table>\n",
       "<p>5 rows × 55 columns</p>\n",
       "</div>"
      ],
      "text/plain": [
       "     age  duration  campaign  pdays  previous  emp_var_rate  cons_price_idx  \\\n",
       "90    40       160         1    999         0          -0.1          93.200   \n",
       "254   43       190         1    999         0           1.1          93.994   \n",
       "283   54       258         2    999         0          -2.9          92.963   \n",
       "443   44       292         1    999         0           1.4          93.918   \n",
       "336   39        76         4    999         0           1.4          93.918   \n",
       "\n",
       "     cons_conf_idx  euribor3m  nr_employed  ...  month_oct  month_sep  \\\n",
       "90           -42.0      4.245       5195.8  ...          0          0   \n",
       "254          -36.4      4.857       5191.0  ...          0          0   \n",
       "283          -40.8      1.268       5076.2  ...          0          0   \n",
       "443          -42.7      4.962       5228.1  ...          0          0   \n",
       "336          -42.7      4.957       5228.1  ...          0          0   \n",
       "\n",
       "     day_of_week_fri  day_of_week_mon  day_of_week_thu  day_of_week_tue  \\\n",
       "90                 0                0                1                0   \n",
       "254                0                0                0                1   \n",
       "283                1                0                0                0   \n",
       "443                0                1                0                0   \n",
       "336                1                0                0                0   \n",
       "\n",
       "     day_of_week_wed  poutcome_failure  poutcome_nonexistent  poutcome_success  \n",
       "90                 0                 0                     1                 0  \n",
       "254                0                 0                     1                 0  \n",
       "283                0                 0                     1                 0  \n",
       "443                0                 0                     1                 0  \n",
       "336                0                 0                     1                 0  \n",
       "\n",
       "[5 rows x 55 columns]"
      ]
     },
     "execution_count": 36,
     "metadata": {},
     "output_type": "execute_result"
    }
   ],
   "source": [
    "xtest.head()"
   ]
  },
  {
   "cell_type": "code",
   "execution_count": 37,
   "id": "84e4400d",
   "metadata": {},
   "outputs": [],
   "source": [
    "from sklearn.linear_model import LogisticRegression\n",
    "lg=LogisticRegression()"
   ]
  },
  {
   "cell_type": "code",
   "execution_count": 38,
   "id": "1011a25e",
   "metadata": {},
   "outputs": [
    {
     "name": "stderr",
     "output_type": "stream",
     "text": [
      "C:\\Users\\megha\\anaconda3\\lib\\site-packages\\sklearn\\linear_model\\_logistic.py:814: ConvergenceWarning: lbfgs failed to converge (status=1):\n",
      "STOP: TOTAL NO. of ITERATIONS REACHED LIMIT.\n",
      "\n",
      "Increase the number of iterations (max_iter) or scale the data as shown in:\n",
      "    https://scikit-learn.org/stable/modules/preprocessing.html\n",
      "Please also refer to the documentation for alternative solver options:\n",
      "    https://scikit-learn.org/stable/modules/linear_model.html#logistic-regression\n",
      "  n_iter_i = _check_optimize_result(\n"
     ]
    },
    {
     "data": {
      "text/plain": [
       "LogisticRegression()"
      ]
     },
     "execution_count": 38,
     "metadata": {},
     "output_type": "execute_result"
    }
   ],
   "source": [
    "lg.fit(xtrain,ytrain)"
   ]
  },
  {
   "cell_type": "code",
   "execution_count": 39,
   "id": "6dbd6b43",
   "metadata": {},
   "outputs": [],
   "source": [
    "ypred=lg.predict(xtest)"
   ]
  },
  {
   "cell_type": "code",
   "execution_count": 40,
   "id": "471c8b56",
   "metadata": {},
   "outputs": [
    {
     "data": {
      "text/plain": [
       "array([0, 0, 0, 0, 0, 0, 0, 0, 0, 0, 0, 0, 0, 0, 0, 0, 0, 0, 0, 0, 0, 0,\n",
       "       0, 0, 0, 0, 0, 0, 1, 0, 0, 0, 0, 0, 0, 1, 0, 0, 0, 0, 0, 0, 1, 0,\n",
       "       0, 0, 0, 0, 0, 0, 0, 0, 0, 0, 0, 0, 0, 0, 0, 1, 0, 0, 0, 0, 0, 0,\n",
       "       0, 0, 0, 0, 0, 0, 0, 0, 0, 0, 0, 0, 0, 0, 0, 0, 0, 0, 0, 1, 0, 0,\n",
       "       1, 0, 0, 0, 0, 0, 0, 0, 0, 0, 0, 0, 0, 0, 0, 0, 0, 0, 1, 0, 0, 0,\n",
       "       0, 0, 0, 0, 0, 0, 0, 0, 1, 0, 0, 0, 0, 0, 0, 0, 0, 0, 0, 0, 0, 0,\n",
       "       0, 0, 0, 0, 0, 0, 0, 0, 0, 0, 0, 0, 0, 1, 0, 0, 0, 0], dtype=int64)"
      ]
     },
     "execution_count": 40,
     "metadata": {},
     "output_type": "execute_result"
    }
   ],
   "source": [
    "ypred"
   ]
  },
  {
   "cell_type": "code",
   "execution_count": 41,
   "id": "f700caf6",
   "metadata": {},
   "outputs": [],
   "source": [
    "from sklearn.metrics import accuracy_score,confusion_matrix,classification_report"
   ]
  },
  {
   "cell_type": "code",
   "execution_count": 42,
   "id": "f0657879",
   "metadata": {},
   "outputs": [
    {
     "data": {
      "text/plain": [
       "array([[131,   4],\n",
       "       [ 10,   5]], dtype=int64)"
      ]
     },
     "execution_count": 42,
     "metadata": {},
     "output_type": "execute_result"
    }
   ],
   "source": [
    "confusion_matrix(ytest,ypred)"
   ]
  },
  {
   "cell_type": "code",
   "execution_count": 43,
   "id": "a764eda1",
   "metadata": {},
   "outputs": [
    {
     "data": {
      "text/plain": [
       "0.9066666666666666"
      ]
     },
     "execution_count": 43,
     "metadata": {},
     "output_type": "execute_result"
    }
   ],
   "source": [
    "accuracy_score(ytest,ypred)"
   ]
  },
  {
   "cell_type": "markdown",
   "id": "cd426ba2",
   "metadata": {},
   "source": [
    "#Our model shows the accuracy of 90%"
   ]
  },
  {
   "cell_type": "code",
   "execution_count": null,
   "id": "7d288e1b",
   "metadata": {},
   "outputs": [],
   "source": []
  },
  {
   "cell_type": "code",
   "execution_count": null,
   "id": "bd035220",
   "metadata": {},
   "outputs": [],
   "source": []
  }
 ],
 "metadata": {
  "kernelspec": {
   "display_name": "Python 3",
   "language": "python",
   "name": "python3"
  },
  "language_info": {
   "codemirror_mode": {
    "name": "ipython",
    "version": 3
   },
   "file_extension": ".py",
   "mimetype": "text/x-python",
   "name": "python",
   "nbconvert_exporter": "python",
   "pygments_lexer": "ipython3",
   "version": "3.8.8"
  }
 },
 "nbformat": 4,
 "nbformat_minor": 5
}
